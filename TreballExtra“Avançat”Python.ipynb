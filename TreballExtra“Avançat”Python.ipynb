{
  "nbformat": 4,
  "nbformat_minor": 0,
  "metadata": {
    "colab": {
      "provenance": [],
      "authorship_tag": "ABX9TyNL+chpclH65g20vTCYCALp",
      "include_colab_link": true
    },
    "kernelspec": {
      "name": "python3",
      "display_name": "Python 3"
    },
    "language_info": {
      "name": "python"
    }
  },
  "cells": [
    {
      "cell_type": "markdown",
      "metadata": {
        "id": "view-in-github",
        "colab_type": "text"
      },
      "source": [
        "<a href=\"https://colab.research.google.com/github/ZhezhengMVM/BTX/blob/main/TreballExtra%E2%80%9CAvan%C3%A7at%E2%80%9DPython.ipynb\" target=\"_parent\"><img src=\"https://colab.research.google.com/assets/colab-badge.svg\" alt=\"Open In Colab\"/></a>"
      ]
    },
    {
      "cell_type": "markdown",
      "source": [
        "Comprovador de contrasenya de 7 condicionants"
      ],
      "metadata": {
        "id": "Efxr1UsSt0fN"
      }
    },
    {
      "cell_type": "code",
      "source": [
        "flag = False\n",
        "while not flag:\n",
        "    while True:\n",
        "        print(\"La contrasenya ha de complir les següents condicions:\"\n",
        "           \"\\n- Començar i acabar pel signe _\"\n",
        "           \"\\n- Una llargada major o igual que 6\"\n",
        "           \"\\n- Una llargada menor o igual que 20\"\n",
        "           \"\\n- Incloure majuscula\"\n",
        "           \"\\n- Incloure minuscula\"\n",
        "           \"\\n- incloure número\")\n",
        "        c = input('Introdueix una contresenya:')\n",
        "        l1 = []\n",
        "        for i in c:\n",
        "            l1.append(i)\n",
        "        if len(c) < 6:\n",
        "            print('La llargada de la contrasenya ha de ser major o igual que 6')\n",
        "            break\n",
        "        elif len(c) > 20:\n",
        "            print('La llargada de la contrasenya ha de ser menor o igual que 20')\n",
        "            break\n",
        "        # inclou majuscula\n",
        "        c1 = False\n",
        "        # inclou minuscula\n",
        "        c2 = False\n",
        "        # inclou numero\n",
        "        c3 = False\n",
        "\n",
        "        if l1[0] != '_':\n",
        "            print('La contrasenya ha de començar en _')\n",
        "            break\n",
        "        if l1[len(l1) - 1] != '_':\n",
        "            print('La contrasenya ha de acabar en _')\n",
        "            break\n",
        "\n",
        "        for j in l1:\n",
        "            try:\n",
        "                j = int(j)\n",
        "                c3 = True\n",
        "                continue\n",
        "            except:\n",
        "                pass\n",
        "            if isinstance(j, str) and j == j.upper():\n",
        "                c1 = True\n",
        "            elif isinstance(j, str) and j == j.lower():\n",
        "                c2 = True\n",
        "\n",
        "        l2 = [c1, c2, c3]\n",
        "\n",
        "        if False in l2:\n",
        "            for i in l2:\n",
        "                if i == False:\n",
        "                    if i == c1:\n",
        "                        print('La contrasenya ha de incloure majuscula')\n",
        "                        break\n",
        "                    elif i == c2:\n",
        "                        print('La contrasenya ha de incloure minuscula')\n",
        "                        break\n",
        "                    else:\n",
        "                        print('La contrasenya ha de incloure número')\n",
        "                        break\n",
        "        else:\n",
        "            print(\"Contrasenya correcte! Compleix les consicions\")\n",
        "            flag = True\n",
        "            break\n"
      ],
      "metadata": {
        "id": "O5fkD0juqI6D"
      },
      "execution_count": null,
      "outputs": []
    },
    {
      "cell_type": "markdown",
      "source": [
        "Generador de contrasenya amb 7 condicions"
      ],
      "metadata": {
        "id": "umLslZeBqKcH"
      }
    },
    {
      "cell_type": "code",
      "source": [
        "from random import randint\n",
        "\n",
        "print(\"Aquest programa és un generador de contrasenya amb els següents \"\n",
        "      \"condicions:\"\n",
        "      \"\\n- Començar i acabar pel signe _\"\n",
        "      \"\\n- Una llargada major o igual que 6 i menor o igual que 20\"\n",
        "      \"\\n- Incloure majuscula\"\n",
        "      \"\\n- Incloure minuscula\"\n",
        "      \"\\n- incloure número\"\n",
        "      \"\\n- En oncasio d'haver signes especial, només poden ser: _!?,.\")\n",
        "\n",
        "l1 = ['a', 'b', 'c', 'd', 'e', 'f', 'g', 'h', 'i', 'j', 'k', 'l', 'm', 'n',\n",
        "      'o', 'p', 'q', 'r', 's', 't', 'u', 'v', 'w', 'x', 'y', 'z']\n",
        "\n",
        "l2 = ['_', '!', '?', ',', '.']\n",
        "\n",
        "c = '_'\n",
        "\n",
        "length = randint(6, 20)\n",
        "\n",
        "while len(c) < length - 1:\n",
        "    i = randint(1, 10)\n",
        "    if i < 10:\n",
        "        j = randint(0, 25)\n",
        "        m = randint(1, 2)\n",
        "        if m == 1:\n",
        "          c += l1[j]\n",
        "        else:\n",
        "          c += l1[j].upper()\n",
        "    else:\n",
        "        j = randint(0, 4)\n",
        "        c += l2[j]\n",
        "\n",
        "c += '_'\n",
        "\n",
        "print(f'Contrasenya generada: {c}')\n"
      ],
      "metadata": {
        "colab": {
          "base_uri": "https://localhost:8080/"
        },
        "id": "8NmvkUtaryl3",
        "outputId": "ac538ff9-6e99-4c71-be23-8c9457415d0a"
      },
      "execution_count": 1,
      "outputs": [
        {
          "output_type": "stream",
          "name": "stdout",
          "text": [
            "Aquest programa és un generador de contrasenya amb els següents condicions:\n",
            "- Començar i acabar pel signe _\n",
            "- Una llargada major o igual que 6 i menor o igual que 20\n",
            "- Incloure majuscula\n",
            "- Incloure minuscula\n",
            "- incloure número\n",
            "- En oncasio d'haver signes especial, només poden ser: _!?,.\n",
            "Contrasenya generada: _OatxHirT!qAh.O_A!Y_\n"
          ]
        }
      ]
    },
    {
      "cell_type": "markdown",
      "source": [
        "Generador de text amb una llargada de 50 a 500 paraules de manera a l'atzar"
      ],
      "metadata": {
        "id": "WmWQQr6EtRua"
      }
    },
    {
      "cell_type": "code",
      "source": [
        "from random import randint\n",
        "\n",
        "p = ['pare', 'quals', 'exemmple', 'despres', 'començar', 'haver', 'pel', 'fou',\n",
        "     'estat', 'europa', 'estava', 'obres', 'dia', 'patata', 'des', 'aigua',\n",
        "     'ordinador', 'barcelona', 'fer', 'abans', 'jugar', 'pilota', 'futbol',\n",
        "     'cuinar', 'pebrot', 'nacional', 'terra', 'sistema', 'es', 'anys']\n",
        "\n",
        "l = randint(50, 500)\n",
        "\n",
        "print(f'Un text de {l} paraules:')\n",
        "t = p[randint(0, len(p) - 1)]\n",
        "\n",
        "for i in range(l):\n",
        "    t += f' {p[randint(0, len(p) - 1)]}'\n",
        "\n",
        "print(t)\n"
      ],
      "metadata": {
        "colab": {
          "base_uri": "https://localhost:8080/"
        },
        "id": "8UhFpboOtdGF",
        "outputId": "309494a3-1695-49a0-87e3-38014ee83906"
      },
      "execution_count": null,
      "outputs": [
        {
          "output_type": "stream",
          "name": "stdout",
          "text": [
            "Un text de 202 paraules:\n",
            "pilota despres des aigua dia fou anys pilota despres sistema abans europa des futbol es aigua futbol pare abans futbol estava estava cuinar estava terra sistema des jugar europa dia ordinador nacional nacional haver des dia futbol estat quals pebrot des barcelona ordinador barcelona abans aigua patata patata abans ordinador jugar pare fer estava es dia obres aigua quals dia abans nacional fer pel pilota estava exemmple sistema europa pilota dia terra abans pel començar estava quals es pebrot sistema es haver aigua pebrot patata estava pilota jugar pebrot fer terra futbol cuinar sistema nacional patata pel despres es fou estava estava futbol barcelona exemmple abans anys exemmple futbol jugar europa nacional quals haver anys dia exemmple es jugar fer començar fer començar jugar fer quals futbol despres quals fou pel aigua des terra patata pilota fer obres es terra cuinar ordinador barcelona pebrot nacional quals pilota europa pebrot haver ordinador anys dia quals nacional estava quals estava despres pel des haver dia nacional dia abans estat cuinar exemmple estava fou cuinar anys haver es anys abans sistema fou ordinador obres aigua futbol anys abans estava anys es barcelona començar abans anys patata obres estat anys pel fer estat estat nacional anys ordinador\n"
          ]
        }
      ]
    }
  ]
}