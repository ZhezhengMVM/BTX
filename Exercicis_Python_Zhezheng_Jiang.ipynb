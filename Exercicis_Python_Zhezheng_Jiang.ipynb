{
  "nbformat": 4,
  "nbformat_minor": 0,
  "metadata": {
    "colab": {
      "provenance": [],
      "authorship_tag": "ABX9TyPY3ZIo7M03MF3bmzqGB/kD",
      "include_colab_link": true
    },
    "kernelspec": {
      "name": "python3",
      "display_name": "Python 3"
    },
    "language_info": {
      "name": "python"
    }
  },
  "cells": [
    {
      "cell_type": "markdown",
      "metadata": {
        "id": "view-in-github",
        "colab_type": "text"
      },
      "source": [
        "<a href=\"https://colab.research.google.com/github/ZhezhengMVM/BTX/blob/main/Exercicis_Python_Zhezheng_Jiang.ipynb\" target=\"_parent\"><img src=\"https://colab.research.google.com/assets/colab-badge.svg\" alt=\"Open In Colab\"/></a>"
      ]
    },
    {
      "cell_type": "markdown",
      "source": [
        "1. Un fabricant ven 48 cuines a 93 € una. Cobra 37 euros pel transport. Quant haurà cobrat en total? 1 transport."
      ],
      "metadata": {
        "id": "U5aTpRx8kZJ7"
      }
    },
    {
      "cell_type": "code",
      "source": [
        "cuines = 48\n",
        "preu = 93\n",
        "transport = 37\n",
        "\n",
        "print(f'Ha cobrat en total {cuines * preu + transport} euros')"
      ],
      "metadata": {
        "colab": {
          "base_uri": "https://localhost:8080/"
        },
        "id": "HE0xehlMkT1M",
        "outputId": "b9b1b4b5-59be-4126-acec-3017245dccef"
      },
      "execution_count": null,
      "outputs": [
        {
          "output_type": "stream",
          "name": "stdout",
          "text": [
            "Ha cobrat en total 4501 euros\n"
          ]
        }
      ]
    },
    {
      "cell_type": "markdown",
      "source": [
        "2. En una guardiola hi ha 120 euros; en una altra hi ha 215 i en una tercera 163. Si repartim els\n",
        "euros entre 6 persones, quants en toquen a cada una?"
      ],
      "metadata": {
        "id": "mAZaroeHlVM5"
      }
    },
    {
      "cell_type": "code",
      "source": [
        "guardiola1 = 120\n",
        "guardiola2 = 215\n",
        "guardiola3 = 163\n",
        "\n",
        "print(f'Si repartim els euros entre 6 persones, en toquen a cada'\n",
        "   f'una {(guardiola1 + guardiola2 + guardiola3) / 6} euros')"
      ],
      "metadata": {
        "colab": {
          "base_uri": "https://localhost:8080/"
        },
        "id": "4l1L982mlY6J",
        "outputId": "ec87d3fd-0b32-4bc1-d552-a3f155cde46c"
      },
      "execution_count": null,
      "outputs": [
        {
          "output_type": "stream",
          "name": "stdout",
          "text": [
            "Si repartim els euros entre 6 persones, en toquen a cadauna 83.0 euros\n"
          ]
        }
      ]
    },
    {
      "cell_type": "markdown",
      "source": [
        "3. Una castanyera tenia 250 castanyes torrades. Si en ven 17 dotzenes i a més treu 9 castanyes\n",
        "cremades, quantes li'n queden per vendre?"
      ],
      "metadata": {
        "id": "g9N9jDstmva_"
      }
    },
    {
      "cell_type": "code",
      "source": [
        "castanyes = 250\n",
        "dotezenes = 17\n",
        "castanyes_cremades = 9\n",
        "\n",
        "print(f\"Li queden {castanyes - dotezenes * 12 - 9} castanyes per\"\n",
        "   f\" vendre\")"
      ],
      "metadata": {
        "colab": {
          "base_uri": "https://localhost:8080/"
        },
        "id": "5J7uRmxjmwFM",
        "outputId": "8322b34d-9538-4948-f338-6a6c3498c388"
      },
      "execution_count": null,
      "outputs": [
        {
          "output_type": "stream",
          "name": "stdout",
          "text": [
            "Li queden 37 castanyes per vendre\n"
          ]
        }
      ]
    },
    {
      "cell_type": "markdown",
      "source": [
        "4. Un ramader va guanyar en un any 2.850 euros; va guardar-se'n 700, i amb la resta va comprar 5\n",
        "vaques. Quants euros val cada vaca?"
      ],
      "metadata": {
        "id": "CxwT4trXnkex"
      }
    },
    {
      "cell_type": "code",
      "source": [
        "diners = 2850\n",
        "diners_guardats = 700\n",
        "vaques = 5\n",
        "\n",
        "print(f'Una vaca val {(diners - diners_guardats) / vaques} euros')"
      ],
      "metadata": {
        "colab": {
          "base_uri": "https://localhost:8080/"
        },
        "id": "Ma1CRm_7nnUS",
        "outputId": "24ab2e67-b1dd-47af-8b7d-51ad8c3f3629"
      },
      "execution_count": null,
      "outputs": [
        {
          "output_type": "stream",
          "name": "stdout",
          "text": [
            "Una vaca val 430.0 euros\n"
          ]
        }
      ]
    },
    {
      "cell_type": "markdown",
      "source": [
        "5. A la llibreta d'estalvis tinc 275 euros. Hi poso dos bitllets de 10 euros i tres monedes de 2 euros.\n",
        "Quants euros hi tinc ara?"
      ],
      "metadata": {
        "id": "q6arGq6roDWm"
      }
    },
    {
      "cell_type": "code",
      "source": [
        "diners = 275\n",
        "bitllets_de_10 = 2\n",
        "monedes_de_2 = 3\n",
        "\n",
        "print(f'{diners + bitllets_de_10 * 10 + monedes_de_2 * 2 } euros')"
      ],
      "metadata": {
        "colab": {
          "base_uri": "https://localhost:8080/"
        },
        "id": "5MkaJjnfoFqm",
        "outputId": "ba41a543-cfb4-4b01-cf73-b3e2f813b99e"
      },
      "execution_count": null,
      "outputs": [
        {
          "output_type": "stream",
          "name": "stdout",
          "text": [
            "301 euros\n"
          ]
        }
      ]
    },
    {
      "cell_type": "markdown",
      "source": [
        "6. A una família li falten 26.625 euros per poder comprar una casa que val 98.370 euros. Quants\n",
        "euros té?"
      ],
      "metadata": {
        "id": "NjWBs4Q8on_R"
      }
    },
    {
      "cell_type": "code",
      "source": [
        "diners_faltats = 26.625\n",
        "preu_de_casa = 98.37\n",
        "\n",
        "print(f'Té {preu_de_casa - diners_faltats} euros')"
      ],
      "metadata": {
        "colab": {
          "base_uri": "https://localhost:8080/"
        },
        "id": "9PHtKcbPouWh",
        "outputId": "c7327a2e-52dd-426a-ed3d-e6ebaa44b0d5"
      },
      "execution_count": null,
      "outputs": [
        {
          "output_type": "stream",
          "name": "stdout",
          "text": [
            "Té 71.745 euros\n"
          ]
        }
      ]
    },
    {
      "cell_type": "markdown",
      "source": [
        "7. Si dues revistes pesen 432 grams i el pes d'aquestes dues revistes és el mateix que cinc\n",
        "retoladors. Quant pesa un retolador?"
      ],
      "metadata": {
        "id": "Z_yOvS2mpDk_"
      }
    },
    {
      "cell_type": "code",
      "source": [
        "dues_revistes = 432\n",
        "\n",
        "print(f'Un retolador pesa {dues_revistes / 5} grams')"
      ],
      "metadata": {
        "colab": {
          "base_uri": "https://localhost:8080/"
        },
        "id": "dw-qr4BBpHEf",
        "outputId": "eb296770-d42f-4a47-8fb8-38bf4e6c05d1"
      },
      "execution_count": null,
      "outputs": [
        {
          "output_type": "stream",
          "name": "stdout",
          "text": [
            "Un retolador pesa 86.4 grams\n"
          ]
        }
      ]
    },
    {
      "cell_type": "markdown",
      "source": [
        "8. Una font raja 86 litres d'aigua per minut, d'una altra 74 litres i d'una tercera 132 litres. Quants\n",
        "litres ragen les tres fonts juntes en una hora?"
      ],
      "metadata": {
        "id": "DhrFcjNqpd2p"
      }
    },
    {
      "cell_type": "code",
      "source": [
        "font1 = 86\n",
        "font2 = 74\n",
        "font3 = 132\n",
        "\n",
        "print(f'Ragen {(font1 + font2 + font3) * 60} litres en una hora')"
      ],
      "metadata": {
        "colab": {
          "base_uri": "https://localhost:8080/"
        },
        "id": "G6cIvQFWpf6t",
        "outputId": "3f901941-d6cd-4f8d-8071-7cca387983bf"
      },
      "execution_count": null,
      "outputs": [
        {
          "output_type": "stream",
          "name": "stdout",
          "text": [
            "Ragen 17520 litres en una hora\n"
          ]
        }
      ]
    },
    {
      "cell_type": "markdown",
      "source": [
        "9. Un terrissaire fa 301 gerres cada setmana. Si les posa en caixes de 7 gerres, quantes caixes\n",
        "n'omple?"
      ],
      "metadata": {
        "id": "vFxqIlcCvskx"
      }
    },
    {
      "cell_type": "code",
      "source": [
        "gerres = 301\n",
        "\n",
        "print(f'{301 / 7} caixes')"
      ],
      "metadata": {
        "colab": {
          "base_uri": "https://localhost:8080/"
        },
        "id": "BUClNhHbvtO4",
        "outputId": "d5a8b610-b4ef-426d-9292-e8bd52f72390"
      },
      "execution_count": null,
      "outputs": [
        {
          "output_type": "stream",
          "name": "stdout",
          "text": [
            "43.0 caixes\n"
          ]
        }
      ]
    },
    {
      "cell_type": "markdown",
      "source": [
        "10. En un vaixell hi van 175 mariners i en un submarí 56. Quants mariners hi haurà en 14 vaixells i\n",
        "6 submarins iguals als esmentats?"
      ],
      "metadata": {
        "id": "mTuRZ7hKwrSl"
      }
    },
    {
      "cell_type": "code",
      "source": [
        "vaixells = 14\n",
        "submarins = 6\n",
        "\n",
        "print(f'{vaixells * 175 + submarins * 56} mariners')"
      ],
      "metadata": {
        "colab": {
          "base_uri": "https://localhost:8080/"
        },
        "id": "98OovysCwuPy",
        "outputId": "597c5d25-e2f4-48b8-ba2e-bfcdc4dc386b"
      },
      "execution_count": null,
      "outputs": [
        {
          "output_type": "stream",
          "name": "stdout",
          "text": [
            "2786 mariners\n"
          ]
        }
      ]
    },
    {
      "cell_type": "markdown",
      "source": [
        "Una botiga de joguines té molt èxit amb dos dels seus productes: nines i pallassos. Acostuma a fer vendes per al correu i l'empresa de logística els cobra pel pes de cada joguina, així doncs han de calcular el pes dels pallassos i nines que sortiran a cada paquet de demanda. Cada pallasso pesa 112 grams i cada nina 75. Fer una programa que llegeix el número de pallassos i nines venuts en la darrera comanda. I calcula el pes."
      ],
      "metadata": {
        "id": "l9Q9s2R9rD8p"
      }
    },
    {
      "cell_type": "code",
      "source": [
        "pallassos = int(input('Introdueix la quantitat de pallassos venuts: '))\n",
        "nines = int(input('Introdueix la quantitat de nines venuts: '))\n",
        "pes_pallassos = pallassos * 112\n",
        "pes_nines = nines * 75\n",
        "\n",
        "pes_total = pes_pallassos + pes_nines\n",
        "print(f\"Pes total és de {pes_total} grams\")"
      ],
      "metadata": {
        "colab": {
          "base_uri": "https://localhost:8080/"
        },
        "id": "Q-HfciSXsfst",
        "outputId": "ce55a5c5-2ce4-461c-c070-4cc771bf599d"
      },
      "execution_count": null,
      "outputs": [
        {
          "output_type": "stream",
          "name": "stdout",
          "text": [
            "Introdueix la quantitat de pallassos venuts: 5\n",
            "Introdueix la quantitat de nines venuts: 7\n",
            "Pes total és de 1085 grams\n"
          ]
        }
      ]
    },
    {
      "cell_type": "markdown",
      "source": [
        "Impressió Hola món!"
      ],
      "metadata": {
        "id": "VHlcg0H5HZMK"
      }
    },
    {
      "cell_type": "code",
      "source": [
        "print(\"Hola món\")"
      ],
      "metadata": {
        "id": "f4ODAELlHn-X"
      },
      "execution_count": null,
      "outputs": []
    },
    {
      "cell_type": "markdown",
      "source": [
        "Variable + Impressió"
      ],
      "metadata": {
        "id": "ueezg1KzHxvl"
      }
    },
    {
      "cell_type": "code",
      "source": [
        "missatge = \"Hola món\"\n",
        "print(missatge)"
      ],
      "metadata": {
        "id": "jVRp8d5tH3GE"
      },
      "execution_count": null,
      "outputs": []
    },
    {
      "cell_type": "markdown",
      "source": [
        "Escriu un programa que pregunti el nom de l'usuari i després quan el usuari introdueix el nom com a resposta ems ha de imprimir una resposta que ems digui Hola i la respostaa que ems ha posat."
      ],
      "metadata": {
        "id": "Qk4UvBa9I6pf"
      }
    },
    {
      "cell_type": "code",
      "source": [
        "nom = input('Hola! Com ets dius? ')\n",
        "\n",
        "print(f'Hola, {nom}, benvingut!')"
      ],
      "metadata": {
        "id": "GL8etGObJOA1",
        "colab": {
          "base_uri": "https://localhost:8080/"
        },
        "outputId": "ba20accb-9c1f-4636-89b4-d3a26299eaaa"
      },
      "execution_count": null,
      "outputs": [
        {
          "output_type": "stream",
          "name": "stdout",
          "text": [
            "Hola! Com ets dius? Zhezheng\n",
            "Hola Zhezheng, benvingut!\n"
          ]
        }
      ]
    },
    {
      "cell_type": "markdown",
      "source": [
        "Escriu un programa que pregunta a l'usuari hores que treballa i preu per hora. I després imprimir els diners que guanya."
      ],
      "metadata": {
        "id": "htN1RdDQTwmx"
      }
    },
    {
      "cell_type": "code",
      "source": [
        "hores = float(input('Cuantas hores treballes? '))\n",
        "guanys = float(input('I quantas cobres al hora? '))\n",
        "\n",
        "print(f'Guanyes {hores * guanys} euros amb les hores que treballs')"
      ],
      "metadata": {
        "id": "ZDDchUb_T0Bi",
        "colab": {
          "base_uri": "https://localhost:8080/"
        },
        "outputId": "4d963c77-62bf-4bef-d279-b82a49eda6b1"
      },
      "execution_count": null,
      "outputs": [
        {
          "output_type": "stream",
          "name": "stdout",
          "text": [
            "Cuantas hores treballes? 2\n",
            "I quantas cobres al hora? 99999\n",
            "Guanyes 199998 euros amb les hores que treballs\n"
          ]
        }
      ]
    },
    {
      "cell_type": "code",
      "source": [
        "x = 10\n",
        "print(type(x))"
      ],
      "metadata": {
        "colab": {
          "base_uri": "https://localhost:8080/"
        },
        "id": "Q8E6PIGDnZdP",
        "outputId": "180df6a9-81b8-4030-ecfa-1891d3196a4e"
      },
      "execution_count": null,
      "outputs": [
        {
          "output_type": "stream",
          "name": "stdout",
          "text": [
            "<class 'int'>\n"
          ]
        }
      ]
    },
    {
      "cell_type": "code",
      "source": [
        "x = 1, 5\n",
        "print(type(x))"
      ],
      "metadata": {
        "colab": {
          "base_uri": "https://localhost:8080/"
        },
        "id": "dyeXahXUndsY",
        "outputId": "c17c9c1b-83f4-42d6-cfeb-57eed25b62b5"
      },
      "execution_count": null,
      "outputs": [
        {
          "output_type": "stream",
          "name": "stdout",
          "text": [
            "<class 'tuple'>\n"
          ]
        }
      ]
    },
    {
      "cell_type": "markdown",
      "source": [
        "Pregunta-li al variable (pes final entre els pallassos i nines) mitjançant el type quin tipus és. Un cop preguntat, si la resposta és un número sense: escriu el nombre amb un nombre no enter o decimal, sinó imprimeix-la directament."
      ],
      "metadata": {
        "id": "mg31h8wSrs92"
      }
    },
    {
      "cell_type": "code",
      "source": [
        "pallassos = int(input('Introdueix la quantitat de pallassos venuts: '))\n",
        "nines = int(input('Introdueix la quantitat de nines venudes: '))\n",
        "pes_pallassos = pallassos * 112\n",
        "pes_nines = nines * 75\n",
        "\n",
        "pes_total = pes_pallassos + pes_nines\n",
        "print(f\"Pes total és de {pes_total} grams\")\n",
        "\n",
        "print(\"Quin tipus ets?\")\n",
        "print(f\"Soc {type(pes_total)}\")\n",
        "\n",
        "if type(pes_total) == type(1):\n",
        "  print(float(pes_total))\n",
        "else:\n",
        "  print(pes_total)"
      ],
      "metadata": {
        "id": "MUAxfzN6rsuY"
      },
      "execution_count": null,
      "outputs": []
    },
    {
      "cell_type": "markdown",
      "source": [
        "Llibre: 5 euros, punt de llibre: 1.5 euros, portallibre: 10 euros.\n",
        "\n"
      ],
      "metadata": {
        "id": "FSRaQHDUuJ_p"
      }
    },
    {
      "cell_type": "code",
      "source": [
        "flag = True\n",
        "while flag:\n",
        "  llibres = int(input(\"Quants llibres vols comprar? \"))\n",
        "  punts_de_llibre = int(input(\"Quants punts de llibre vols comprar? \"))\n",
        "  portallibres = int(input(\"Quants portallibres vols comprar? \"))\n",
        "  preu_final = llibres * 5 + punts_de_llibre * 1.5 + portallibres * 10\n",
        "\n",
        "  print(\"Quin tipus ets (preu final)?\")\n",
        "  print(f\"Soc {type(preu_final)}\")\n",
        "\n",
        "  if isinstance(preu_final, int):\n",
        "    print(f'El preu final ha sortit com a int (enter), torna a comprar de nou')\n",
        "\n",
        "\n",
        "print(preu_final)"
      ],
      "metadata": {
        "id": "rqL50MHxuZ6K",
        "colab": {
          "base_uri": "https://localhost:8080/"
        },
        "outputId": "1fb807e5-882f-44fd-e661-267324a380ce"
      },
      "execution_count": null,
      "outputs": [
        {
          "output_type": "stream",
          "name": "stdout",
          "text": [
            "Quants llibres vols comprar?2\n",
            "Quants punt de llibre vols comprar?2\n",
            "Quants portallibres vols comprar?3\n",
            "Quin tipus ets (preu final)?\n",
            "Soc <class 'float'>\n",
            "43.0\n"
          ]
        }
      ]
    },
    {
      "cell_type": "markdown",
      "source": [
        "Calcular la superfície d'un quadrat sabent el seu costat"
      ],
      "metadata": {
        "id": "RUez9Kd0peLw"
      }
    },
    {
      "cell_type": "code",
      "source": [
        "costat = float(input(\"Introdueix la longitud del costat del quadrat\"\n",
        "            \"la qual vols calcular la seva superfície en\"\n",
        "            \"metre: \"))\n",
        "\n",
        "print(f\"La superfície del quadrat és {costat ** 2} metres quadrat\")"
      ],
      "metadata": {
        "colab": {
          "base_uri": "https://localhost:8080/"
        },
        "id": "-DlPMEWHqyT2",
        "outputId": "d9f76576-393d-414a-ed79-f24a509ea716"
      },
      "execution_count": null,
      "outputs": [
        {
          "output_type": "stream",
          "name": "stdout",
          "text": [
            "Introdueix la longitud del costat del quadratla qual vols calcular la seva superfície enmetre: 5\n",
            "La superfície del quadrat és 25.0 metres quadrat\n"
          ]
        }
      ]
    },
    {
      "cell_type": "markdown",
      "source": [
        "Realitzar el càlcul del perímetre d'un quadrat"
      ],
      "metadata": {
        "id": "BOWpgvlPptLh"
      }
    },
    {
      "cell_type": "code",
      "source": [
        "costat = float(input(\"Introdueix la longitud del costat del quadrat\"\n",
        "            \"la qual vols calcular la seva superfície en\"\n",
        "            \"metre: \"))\n",
        "\n",
        "print(f\"El perímetre del quadrat és {costat * 4} metres al quadrat\")"
      ],
      "metadata": {
        "colab": {
          "base_uri": "https://localhost:8080/"
        },
        "id": "65wPFIr0rhoe",
        "outputId": "399eeadf-0a38-4f8b-b7bc-a5c7adb346ad"
      },
      "execution_count": null,
      "outputs": [
        {
          "output_type": "stream",
          "name": "stdout",
          "text": [
            "Introdueix la longitud del costat del quadratla qual vols calcular la seva superfície enmetre: 5\n",
            "El perímetre del quadrat és 20.0 metres al quadrat\n"
          ]
        }
      ]
    },
    {
      "cell_type": "markdown",
      "source": [
        "Amb 4 variables fer la suma de les 4, després multiplica la suma de la primera i la segona més la tercera i la quarta."
      ],
      "metadata": {
        "id": "uzkCaE_Pp6Uj"
      }
    },
    {
      "cell_type": "code",
      "source": [
        "a = float(input('Introduiex el primer nombre'))\n",
        "b = float(input('Introduiex el segon nombre'))\n",
        "c = float(input('Introduiex el tercer nombre'))\n",
        "d = float(input('Introduiex el quart nombre'))\n",
        "\n",
        "print(f'La suma de les 4 variables és: {a + b + c + d}')\n",
        "print(f'El producte de la suma del primer par i segon par'\n",
        "    f'és: {(a + b) * (c + d)}')"
      ],
      "metadata": {
        "colab": {
          "base_uri": "https://localhost:8080/"
        },
        "id": "2B23NNNYsTeh",
        "outputId": "24f1c932-3fe2-4e38-ad08-879f445e807e"
      },
      "execution_count": null,
      "outputs": [
        {
          "output_type": "stream",
          "name": "stdout",
          "text": [
            "La suma de les 4 variables és: 10\n",
            "El producte de la suma del primer par i segon parés: 21\n"
          ]
        }
      ]
    },
    {
      "cell_type": "markdown",
      "source": [
        "Calcula la mitjana de 4 variables."
      ],
      "metadata": {
        "id": "nVeWu3DoR58k"
      }
    },
    {
      "cell_type": "code",
      "source": [
        "a = float(input('Introduiex el primer nombre: '))\n",
        "b = float(input('Introduiex el segon nombre: '))\n",
        "c = float(input('Introduiex el tercer nombre: '))\n",
        "d = float(input('Introduiex el quart nombre: '))\n",
        "\n",
        "print(f'La mitjana de {a}, {b}, {c} i {d}: {(a + b + c + d) / 4}')"
      ],
      "metadata": {
        "colab": {
          "base_uri": "https://localhost:8080/"
        },
        "id": "R6efR0uXR8Wq",
        "outputId": "f2a97b5a-5cfe-45c5-f703-6b839012fd15"
      },
      "execution_count": null,
      "outputs": [
        {
          "output_type": "stream",
          "name": "stdout",
          "text": [
            "Introduiex el primer nombre: 2\n",
            "Introduiex el segon nombre: 3\n",
            "Introduiex el tercer nombre: 3\n",
            "Introduiex el quart nombre: 4\n",
            "La mitjana de 2.0, 3.0, 3.0 i 4.0: 3.0\n"
          ]
        }
      ]
    },
    {
      "cell_type": "markdown",
      "source": [
        "Fes una variable que pregunti el sou d'una persona, i si el seu sou és superior a 2000 euros, cal que mostri un missatge a la pantalla que digui que ha de pagar un 15% d'IRPF."
      ],
      "metadata": {
        "id": "eroijmJeTE0N"
      }
    },
    {
      "cell_type": "code",
      "source": [
        "sou = float(input('Introduiex el teu sou: '))\n",
        "\n",
        "if sou > 2000:\n",
        "    print(f\"Has de pagar un 15% d'IRPF ({sou * 0.15}) euros\")\n"
      ],
      "metadata": {
        "id": "GIOgTgIeV-0E"
      },
      "execution_count": null,
      "outputs": []
    },
    {
      "cell_type": "markdown",
      "source": [
        "Posar dos 2 variables amb valors diferents i cal que surti a la pantalla el que sigui superior."
      ],
      "metadata": {
        "id": "T2CTi0ioTqDY"
      }
    },
    {
      "cell_type": "code",
      "source": [
        "a = float(input('Introduiex el primer nombre: '))\n",
        "b = float(input('Introduiex el segon nombre: '))\n",
        "\n",
        "if a > b:\n",
        "  print(f'{a} és el superior')\n",
        "else:\n",
        "  print(f'{b} és el superior')"
      ],
      "metadata": {
        "id": "Uojd4hRpV_jT",
        "colab": {
          "base_uri": "https://localhost:8080/"
        },
        "outputId": "b2bc7304-0f69-4c68-93ed-0f7207fea4f9"
      },
      "execution_count": null,
      "outputs": [
        {
          "output_type": "stream",
          "name": "stdout",
          "text": [
            "Introduiex el primer nombre: 4\n",
            "Introduiex el segon nombre: 2\n",
            "4.0 és superior que 2.0\n"
          ]
        }
      ]
    },
    {
      "cell_type": "markdown",
      "source": [
        "Imaginar que una persona té una nòmina de 2950 euros, cal pagar a l'estat un 20% d'impostos. Després, paga la factura del gas (70 euros) i de l'aigua (55 euros). També el pis (1000 euros) quants diners li quedarà per sobreviure? Si el resultat és menor de 1000 euros cal imprimir alguna cosa. Si és superior a 1000 euros, imprimir que ha tingut sort."
      ],
      "metadata": {
        "id": "if1H6bwiT52l"
      }
    },
    {
      "cell_type": "code",
      "source": [
        "diners = 2950\n",
        "\n",
        "diners -= diners * 0.2\n",
        "print(f\"Queda {diners} euros després de pagar els impostos\")\n",
        "diners -= 70\n",
        "print(f\"Queda {diners} euros després de pagar la factura de gas\")\n",
        "diners -= 55\n",
        "print(f\"Queda {diners} euros després de pagar la factura d'aigua\")\n",
        "diners -= 1000\n",
        "print(f\"Queda {diners} euros després de pagar el preu del pis\")\n",
        "if diners > 1000:\n",
        "  print('Has tingut sort')\n",
        "elif diners < 1000:\n",
        "  print('Esforça més per guanyar més sou')\n",
        "else:\n",
        "  print('Numero rodons')"
      ],
      "metadata": {
        "id": "ALDb4mQDW3Di",
        "colab": {
          "base_uri": "https://localhost:8080/"
        },
        "outputId": "de452287-6208-45fc-d572-b967a663702a"
      },
      "execution_count": null,
      "outputs": [
        {
          "output_type": "stream",
          "name": "stdout",
          "text": [
            "Queda 2360.0 euros després de pagar els impostos\n",
            "Queda 2290.0 euros després de pagar la factura de gas\n",
            "Queda 2235.0 euros després de pagar la factura d'aigua\n",
            "Queda 1235.0 euros després de pagar el preu del pis\n",
            "Has tingut sort\n"
          ]
        }
      ]
    },
    {
      "cell_type": "markdown",
      "source": [
        "Li heu de demanar a un alumne que et doni 3 notes. Aleshores, calcular la mitjana de la nota. Si la mitjana de la nota és superior o igual que 7, supera el curs. Si és igual o més gran que 4 i més petit de 7, la nota no està malament. I si la mitjana és menor que 4, que s'esforci."
      ],
      "metadata": {
        "id": "_Ae7L41muriK"
      }
    },
    {
      "cell_type": "code",
      "source": [
        "n1 = float(input('Introdueix la primera nota: '))\n",
        "n2 = float(input('Introdueix la segona nota: '))\n",
        "n3 = float(input('Introdueix la tercera nota: '))\n",
        "\n",
        "mitjana = (n1 + n2 + n3) / 3\n",
        "\n",
        "if mitjana >= 7:\n",
        "  print('Has superat el curs')\n",
        "elif mitjana >= 4:\n",
        "  print('La nota no és malament')\n",
        "else:\n",
        "  print(\"Esforça't més\")"
      ],
      "metadata": {
        "id": "wevPaMMQwKDN"
      },
      "execution_count": null,
      "outputs": []
    },
    {
      "cell_type": "markdown",
      "source": [
        "Demanar 3 números i ens ha de mostrar el superior. Si pots,millor, una cadena amb ordres."
      ],
      "metadata": {
        "id": "Pz_o7nrmvPTM"
      }
    },
    {
      "cell_type": "code",
      "source": [
        "n1 = float(input('Introdueix el primer nombre: '))\n",
        "n1 = int(n1) if n1 % 1 == 0 else n1\n",
        "n2 = float(input('Introdueix el segon nombre: '))\n",
        "n2 = int(n2) if n2 % 1 == 0 else n2\n",
        "n3 = float(input('Introdueix el tercer nombre: '))\n",
        "n3 = int(n3) if n3 % 1 == 0 else n3\n",
        "\n",
        "print(f'El superior de las tres és {max(n1, n2, n3)}')\n",
        "\n",
        "l1 = [n1, n2, n3]\n",
        "l2 = []\n",
        "\n",
        "l2.append(min(l1))\n",
        "l1.remove(min(l1))\n",
        "\n",
        "if l1[0] < l1[1]:\n",
        "    l2.append(l1[0])\n",
        "    l2.append(l1[1])\n",
        "else:\n",
        "    l2.append(l1[1])\n",
        "    l2.append(l1[0])\n",
        "\n",
        "print(f\"L'odre de petit a gran es: {l2[0]}, {l2[1]}, {l2[2]}\")\n"
      ],
      "metadata": {
        "id": "06jmyNWYw2Sc"
      },
      "execution_count": null,
      "outputs": []
    },
    {
      "cell_type": "markdown",
      "source": [
        "Demanar un número i imprimir si és positiu, negatiu o neutre."
      ],
      "metadata": {
        "id": "g5ynskJuvh0h"
      }
    },
    {
      "cell_type": "code",
      "source": [
        "n = float(input('Introdueix un nombre: '))\n",
        "\n",
        "if n > 0:\n",
        "  print('El nombre és positiu')\n",
        "elif n < 0:\n",
        "  print('El nombre és negatiu')\n",
        "else:\n",
        "  print('El nombre és neutre')"
      ],
      "metadata": {
        "id": "qlWJYNw8x-ea"
      },
      "execution_count": null,
      "outputs": []
    },
    {
      "cell_type": "markdown",
      "source": [
        "Preparació per al examen de dia 15 sobre llista"
      ],
      "metadata": {
        "id": "OBjdFv5_Li8h"
      }
    },
    {
      "cell_type": "code",
      "source": [
        "\"\"\"\n",
        "Una llista de llet, pa, peix, notela, 4, 15, cervesa\n",
        "\"\"\"\n",
        "\n",
        "llista = ['llet', 'pa', 'peix', 'notela', 4, 15, 'cervesa']\n",
        "\n",
        "print('Els continguts de la llista són:')\n",
        "for i in llista:\n",
        "    print(i)\n",
        "\n",
        "print(f'El tercer element de la llista és: {llista[2]}')\n",
        "\n",
        "element_eliminat = llista.pop(3)\n",
        "\n",
        "print(\"Llista després d'haver tret el quart element:\")\n",
        "print(llista)\n",
        "\n",
        "print(f'El tercer element de la llista és {llista[2]}')\n",
        "\n",
        "llista.append('bici')\n",
        "llista.insert(0, 'chocolata')\n",
        "\n",
        "print(\"La llista després de haver afegit chocolata al inici de la llista i bici\"\n",
        "      \"al final: \")\n",
        "\n",
        "print(llista)\n",
        "\n",
        "print(f'Ara mateix, la llista hi ha {len(llista)} elements')\n"
      ],
      "metadata": {
        "id": "FyXP3zQiLnwp"
      },
      "execution_count": null,
      "outputs": []
    },
    {
      "cell_type": "markdown",
      "source": [
        "Crearem una llista que es digui setmana, que tingui els dies de dilluns a divendres menys el dijous. Després afegirem el dissabte i el diumenge. I després posarem el dijous en el seu lloc. Un poc tinguem la setmana completa, afegim 2 divendres més a la llista. En una variable emmagatzemarem els cops que surten els divendres que hi ha a la llista. I després eliminarem els divendres que sobrin. I al final farem una frase que digui quants divendres hi havia abans d'eliminar-los."
      ],
      "metadata": {
        "id": "6qjP2_BvMGu1"
      }
    },
    {
      "cell_type": "code",
      "source": [
        "llista = ['dilluns', 'dimarts', 'dimecres', 'divendres']\n",
        "\n",
        "llista.append('dissabte')\n",
        "llista.append('diumenge')\n",
        "\n",
        "llista.insert(3, 'dijous')\n",
        "print(llista)\n",
        "\n",
        "for i in range(2):\n",
        "    llista.append('divendres')\n",
        "\n",
        "divendres = 0\n",
        "\n",
        "for i in llista:\n",
        "    if i == 'divendres':\n",
        "        divendres += 1\n",
        "\n",
        "divendres_abans_de_eliminar = 0\n",
        "\n",
        "for i in llista:\n",
        "    if i == 'divendres':\n",
        "        divendres_abans_de_eliminar += 1\n",
        "\n",
        "for i in range(2):\n",
        "    llista.pop(len(llista) - 1)\n",
        "\n",
        "print(f'Havia {divendres_abans_de_eliminar} divendres abans de elimiinar els '\n",
        "       'que sobraven')\n"
      ],
      "metadata": {
        "id": "nZwY5o2GNfhL"
      },
      "execution_count": null,
      "outputs": []
    },
    {
      "cell_type": "markdown",
      "source": [
        "Segona preparació per al examen de dia 15 sobre llista"
      ],
      "metadata": {
        "id": "WsIp__HzrOxo"
      }
    },
    {
      "cell_type": "code",
      "source": [
        "\"\"\"\n",
        "Fer el llistat següents: Roger, Lídia, Neus, Marc, Anna, Arnau, Héctor, Silvia.\n",
        "Imprimir:\n",
        "La persona es diu: Roger\n",
        "La persona es diu: Lídia\n",
        "La persona es diu: Neus\n",
        "La persona es diu: Marc\n",
        "...\n",
        "\"\"\"\n",
        "\n",
        "l1 = ['Roger', 'Lídia', 'Neus', 'Mar', 'Anna', 'Arnau', 'Héctor', 'Silvia']\n",
        "\n",
        "for i in l1:\n",
        "    print(f'La persona es diu: {i}')\n",
        "\n",
        "contrasenya = ''\n",
        "for i in l1:\n",
        "    contrasenya += i.upper()\n",
        "\n",
        "print(f'La contrasenya: {contrasenya}')\n",
        "\n",
        "A = 0\n",
        "for i in contrasenya:\n",
        "    if i == 'A':\n",
        "        A += 1\n",
        "\n",
        "print(f'Hi ha en total {A} A en la contrasenya')\n",
        "\n",
        "accent = ['à', 'é', 'è', 'í', 'ó', 'ò', 'ú']\n",
        "\n",
        "accent_en_contrasenya = 0\n",
        "\n",
        "for i in contrasenya:\n",
        "    if i.lower() in accent:\n",
        "        accent_en_contrasenya += 1\n",
        "\n",
        "print(f'Hi ha {accent_en_contrasenya} accents')\n",
        "\n",
        "print(f'La llargada de la contrasenya és {len(contrasenya)}')\n",
        "\n",
        "l2 = ['gener', 'febrer', 'març', 'abril', 'maig', 'juny', 'juliol', 'agost',\n",
        "      'setembre', 'octubre', 'novembre', 'desembre']\n",
        "l3 = ['primer', 'segon', 'tercer', 'quart', 'cinquè', 'sisè', 'setè', 'vuitè',\n",
        "      'novè', 'desè', 'undècim', 'duodècim', '', '', '']\n",
        "\n",
        "for i in range(12):\n",
        "    print(f\"El {l3[i]} mes d'un any és {l2[i]}\")\n"
      ],
      "metadata": {
        "id": "KFQSY4tZrRDf"
      },
      "execution_count": null,
      "outputs": []
    }
  ]
}